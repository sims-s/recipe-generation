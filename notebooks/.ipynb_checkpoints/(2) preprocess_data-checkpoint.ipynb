{
 "cells": [
  {
   "cell_type": "code",
   "execution_count": 29,
   "metadata": {},
   "outputs": [],
   "source": [
    "import numpy as np\n",
    "import pandas as pd\n",
    "from sklearn.feature_extraction.text import TfidfVectorizer\n",
    "from tqdm.auto import tqdm\n",
    "import matplotlib.pyplot as plt\n",
    "import os\n",
    "import re\n",
    "from functools import partial\n",
    "import json\n",
    "from collections import defaultdict\n",
    "from src.utils import list_apply"
   ]
  },
  {
   "cell_type": "code",
   "execution_count": 2,
   "metadata": {},
   "outputs": [
    {
     "data": {
      "text/html": [
       "<style>.container { width:100% !important; }</style>"
      ],
      "text/plain": [
       "<IPython.core.display.HTML object>"
      ]
     },
     "metadata": {},
     "output_type": "display_data"
    }
   ],
   "source": [
    "from IPython.core.display import display, HTML\n",
    "display(HTML(\"<style>.container { width:100% !important; }</style>\"))"
   ]
  },
  {
   "cell_type": "code",
   "execution_count": 3,
   "metadata": {
    "scrolled": true
   },
   "outputs": [],
   "source": [
    "tqdm.pandas()"
   ]
  },
  {
   "cell_type": "markdown",
   "metadata": {},
   "source": [
    "# Load and preprocess the data"
   ]
  },
  {
   "cell_type": "code",
   "execution_count": 4,
   "metadata": {},
   "outputs": [],
   "source": [
    "data_path = '../data/interim/'"
   ]
  },
  {
   "cell_type": "code",
   "execution_count": 5,
   "metadata": {},
   "outputs": [
    {
     "data": {
      "application/vnd.jupyter.widget-view+json": {
       "model_id": "",
       "version_major": 2,
       "version_minor": 0
      },
      "text/plain": [
       "  0%|          | 0/285 [00:00<?, ?it/s]"
      ]
     },
     "metadata": {},
     "output_type": "display_data"
    }
   ],
   "source": [
    "df_list = []\n",
    "pbar = tqdm(total = len(os.listdir(data_path)), leave=False)\n",
    "for f in os.listdir(data_path):\n",
    "    df_list.append(pd.read_pickle(data_path + f))\n",
    "    pbar.update(1)\n",
    "pbar.close()\n",
    "df = pd.concat(df_list)"
   ]
  },
  {
   "cell_type": "code",
   "execution_count": 6,
   "metadata": {},
   "outputs": [],
   "source": [
    "# Yay making typos!\n",
    "df.drop('my_calories', axis=1, inplace=True)\n",
    "df.rename({'myt_calories' : 'my_calories'}, axis=1, inplace=True)"
   ]
  },
  {
   "cell_type": "code",
   "execution_count": 7,
   "metadata": {},
   "outputs": [
    {
     "data": {
      "text/plain": [
       "28"
      ]
     },
     "execution_count": 7,
     "metadata": {},
     "output_type": "execute_result"
    }
   ],
   "source": [
    "df.shape[1]"
   ]
  },
  {
   "cell_type": "code",
   "execution_count": 8,
   "metadata": {},
   "outputs": [],
   "source": [
    "column_order = ['id', 'title_lower', 'source', 'ingredients', 'my_ingredients', 'instructions', 'rating', 'review', 'tags', 'time', 'url', 'title', \n",
    "                'calories', 'carb_pdv', 'protien_pdv', 'saturated_fat_pdv', 'sodium_pdv', 'sugar_pdv', 'total_fat_pdv',\n",
    "               'ingredients_half', 'ingredients_twelve']"
   ]
  },
  {
   "cell_type": "code",
   "execution_count": 10,
   "metadata": {},
   "outputs": [],
   "source": [
    "df = df[column_order]"
   ]
  },
  {
   "cell_type": "code",
   "execution_count": 11,
   "metadata": {},
   "outputs": [],
   "source": [
    "df = df.sort_values('title')"
   ]
  },
  {
   "cell_type": "code",
   "execution_count": 13,
   "metadata": {},
   "outputs": [],
   "source": [
    "# Preprocessing functions for my ingredient pull\n",
    "def remove_html_brackets(string):\n",
    "    return re.sub(\"\\<[^<>]*\\>\", '', string)\n",
    "def squash_quantity_spaces(string):\n",
    "    return re.sub(\"(\\d+) -(\\d+)\", r\"\\1-\\2\", string)\n",
    "def remove_extra_spaces(string):\n",
    "    return re.sub(' +', ' ', string)"
   ]
  },
  {
   "cell_type": "code",
   "execution_count": 14,
   "metadata": {},
   "outputs": [],
   "source": [
    "def find_all_chars(string, ch):\n",
    "    return [i for i, letter in enumerate(string) if letter == ch]\n",
    "# Nested Parenthesis are annoying for the parser. \n",
    "# Occurs ~.1% of the time\n",
    "# Replace them with spaces\n",
    "def drop_nested_parens(string):\n",
    "    open_indicies = find_all_chars(string, '(')\n",
    "    close_indicies = find_all_chars(string, ')')\n",
    "    all_indicies = np.array(open_indicies + close_indicies)\n",
    "    is_open = np.array([True] * len(open_indicies) + [False] * len(close_indicies))\n",
    "    string = list(string)\n",
    "    \n",
    "    sorted_indicies = np.argsort(all_indicies)\n",
    "    all_indicies = all_indicies[sorted_indicies]\n",
    "    is_open = is_open[sorted_indicies]\n",
    "    curr_sum = 0 # +1 for open, -1 for closed\n",
    "    for idx, open in zip(all_indicies, is_open):\n",
    "        curr_sum += 1 if open else -1\n",
    "        if curr_sum > 1 or (curr_sum==1 and not open):\n",
    "            string[idx] = ' '\n",
    "    string = ''.join(string)\n",
    "    string = re.sub('\\( +', '(', string)\n",
    "    string = re.sub(' +\\)', ')', string)\n",
    "    return string"
   ]
  },
  {
   "cell_type": "code",
   "execution_count": 15,
   "metadata": {
    "scrolled": true
   },
   "outputs": [
    {
     "data": {
      "application/vnd.jupyter.widget-view+json": {
       "model_id": "7ed0fcdf12bb4bedb3cba078f5325f8b",
       "version_major": 2,
       "version_minor": 0
      },
      "text/plain": [
       "  0%|          | 0/985728 [00:00<?, ?it/s]"
      ]
     },
     "metadata": {},
     "output_type": "display_data"
    }
   ],
   "source": [
    "df['my_ingredients'] = df['my_ingredients'].progress_apply(partial(list_apply, [remove_html_brackets, squash_quantity_spaces, drop_nested_parens, remove_extra_spaces]))"
   ]
  },
  {
   "cell_type": "code",
   "execution_count": 16,
   "metadata": {},
   "outputs": [
    {
     "data": {
      "application/vnd.jupyter.widget-view+json": {
       "model_id": "ab9d8c09bcb946108fcb32cc96cd4e82",
       "version_major": 2,
       "version_minor": 0
      },
      "text/plain": [
       "  0%|          | 0/985728 [00:00<?, ?it/s]"
      ]
     },
     "metadata": {},
     "output_type": "display_data"
    }
   ],
   "source": [
    "df['ingredients'] = df.progress_apply(lambda x: x['my_ingredients'] if len(x['my_ingredients']) > 0 else x['ingredients'], axis=1)"
   ]
  },
  {
   "cell_type": "code",
   "execution_count": 17,
   "metadata": {},
   "outputs": [],
   "source": [
    "df.drop(['my_ingredients', 'ingredients_twelve', 'ingredients_half'], axis=1, inplace=True)"
   ]
  },
  {
   "cell_type": "code",
   "execution_count": 18,
   "metadata": {},
   "outputs": [],
   "source": [
    "drop_rows = [4]\n",
    "df.drop(drop_rows, axis=0, inplace=True)\n",
    "df.reset_index(inplace=True)"
   ]
  },
  {
   "cell_type": "code",
   "execution_count": 19,
   "metadata": {},
   "outputs": [
    {
     "data": {
      "text/plain": [
       "food               494501\n",
       "tastykitchen        74969\n",
       "cookpad             61104\n",
       "cookeatshare        60498\n",
       "foodnetwork         52867\n",
       "allrecipes          47406\n",
       "epicurious          45249\n",
       "kraftrecipes        37761\n",
       "recipeland          25012\n",
       "foodandwine         17505\n",
       "cooking.nytimes     17174\n",
       "foodgeeks            9201\n",
       "cookstr              8961\n",
       "myrecipes            6477\n",
       "chowhound            6277\n",
       "online-cookbook      5626\n",
       "vegetariantimes      4574\n",
       "delish               3819\n",
       "landolakes           2484\n",
       "foodrepublic         2321\n",
       "lovefood             1940\n",
       "                        1\n",
       "Name: source, dtype: int64"
      ]
     },
     "execution_count": 19,
     "metadata": {},
     "output_type": "execute_result"
    }
   ],
   "source": [
    "df['source'].value_counts()"
   ]
  },
  {
   "cell_type": "markdown",
   "metadata": {},
   "source": [
    "### Join the data to the image data"
   ]
  },
  {
   "cell_type": "code",
   "execution_count": 21,
   "metadata": {},
   "outputs": [],
   "source": [
    "with open('./data/recipe_1m/layer2.json', 'r') as f:\n",
    "    img_data = json.load(f)"
   ]
  },
  {
   "cell_type": "code",
   "execution_count": 22,
   "metadata": {},
   "outputs": [],
   "source": [
    "id_to_img_list = defaultdict(lambda: [])\n",
    "for mapper in img_data:\n",
    "    these_urls = []\n",
    "    for i in mapper['images']:\n",
    "        these_urls.append(i['url'])\n",
    "    id_to_img_list[mapper['id']] = these_urls"
   ]
  },
  {
   "cell_type": "code",
   "execution_count": 23,
   "metadata": {},
   "outputs": [],
   "source": [
    "df['img_list'] = df['id'].map(id_to_img_list)"
   ]
  },
  {
   "cell_type": "code",
   "execution_count": 26,
   "metadata": {},
   "outputs": [],
   "source": [
    "df.drop('index', axis=1, inplace=True)"
   ]
  },
  {
   "cell_type": "code",
   "execution_count": 28,
   "metadata": {},
   "outputs": [],
   "source": [
    "save_path = '../data/processed/'\n",
    "if not os.path.exists(save_path):\n",
    "    os.mkdir(save_path)\n",
    "df.to_pickle(save_path + 'processedv2.pkl')"
   ]
  },
  {
   "cell_type": "code",
   "execution_count": null,
   "metadata": {},
   "outputs": [],
   "source": []
  }
 ],
 "metadata": {
  "kernelspec": {
   "display_name": "Python 3",
   "language": "python",
   "name": "python3"
  },
  "language_info": {
   "codemirror_mode": {
    "name": "ipython",
    "version": 3
   },
   "file_extension": ".py",
   "mimetype": "text/x-python",
   "name": "python",
   "nbconvert_exporter": "python",
   "pygments_lexer": "ipython3",
   "version": "3.8.7"
  }
 },
 "nbformat": 4,
 "nbformat_minor": 2
}
