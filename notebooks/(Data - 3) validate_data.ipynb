{
 "cells": [
  {
   "cell_type": "code",
   "execution_count": 2,
   "metadata": {},
   "outputs": [],
   "source": [
    "import numpy as np\n",
    "import pandas as pd\n",
    "from sklearn.feature_extraction.text import TfidfVectorizer\n",
    "from tqdm.auto import tqdm\n",
    "import matplotlib.pyplot as plt\n",
    "import os\n",
    "import re\n",
    "from functools import partial\n",
    "import json\n",
    "from collections import defaultdict\n",
    "import sys\n",
    "sys.path.append('../')\n",
    "from src.utils import list_apply"
   ]
  },
  {
   "cell_type": "code",
   "execution_count": 3,
   "metadata": {},
   "outputs": [
    {
     "data": {
      "text/html": [
       "<style>.container { width:100% !important; }</style>"
      ],
      "text/plain": [
       "<IPython.core.display.HTML object>"
      ]
     },
     "metadata": {},
     "output_type": "display_data"
    }
   ],
   "source": [
    "from IPython.core.display import display, HTML\n",
    "display(HTML(\"<style>.container { width:100% !important; }</style>\"))"
   ]
  },
  {
   "cell_type": "code",
   "execution_count": 4,
   "metadata": {
    "scrolled": true
   },
   "outputs": [],
   "source": [
    "tqdm.pandas()"
   ]
  },
  {
   "cell_type": "code",
   "execution_count": 5,
   "metadata": {},
   "outputs": [],
   "source": [
    "data_path = '../data/processed/'\n",
    "df = pd.read_pickle(data_path + 'processedv3.pkl')"
   ]
  },
  {
   "cell_type": "markdown",
   "metadata": {},
   "source": [
    "### Look at samples from each datasource to make sure they look good\n",
    "| Source | Notes | Num Samples |\n",
    "| --- | --- | -----|\n",
    "| | | |\n",
    "| | | |"
   ]
  },
  {
   "cell_type": "code",
   "execution_count": 8,
   "metadata": {
    "scrolled": true
   },
   "outputs": [
    {
     "data": {
      "text/plain": [
       "food               494501\n",
       "tastykitchen        74969\n",
       "cookpad             61104\n",
       "cookeatshare        60498\n",
       "foodnetwork         52867\n",
       "allrecipes          47406\n",
       "epicurious          45249\n",
       "kraftrecipes        37761\n",
       "recipeland          25012\n",
       "foodandwine         17505\n",
       "cooking.nytimes     17174\n",
       "foodgeeks            9201\n",
       "cookstr              8961\n",
       "myrecipes            6477\n",
       "chowhound            6277\n",
       "online-cookbook      5626\n",
       "vegetariantimes      4574\n",
       "delish               3819\n",
       "landolakes           2484\n",
       "foodrepublic         2321\n",
       "lovefood             1940\n",
       "                        1\n",
       "Name: source, dtype: int64"
      ]
     },
     "execution_count": 8,
     "metadata": {},
     "output_type": "execute_result"
    }
   ],
   "source": [
    "df['source'].value_counts()"
   ]
  },
  {
   "cell_type": "markdown",
   "metadata": {},
   "source": [
    "### List of funny reicpes I've found"
   ]
  },
  {
   "cell_type": "code",
   "execution_count": 9,
   "metadata": {},
   "outputs": [
    {
     "data": {
      "text/html": [
       "<div>\n",
       "<style scoped>\n",
       "    .dataframe tbody tr th:only-of-type {\n",
       "        vertical-align: middle;\n",
       "    }\n",
       "\n",
       "    .dataframe tbody tr th {\n",
       "        vertical-align: top;\n",
       "    }\n",
       "\n",
       "    .dataframe thead th {\n",
       "        text-align: right;\n",
       "    }\n",
       "</style>\n",
       "<table border=\"1\" class=\"dataframe\">\n",
       "  <thead>\n",
       "    <tr style=\"text-align: right;\">\n",
       "      <th></th>\n",
       "      <th>id</th>\n",
       "      <th>title_lower</th>\n",
       "      <th>source</th>\n",
       "      <th>ingredients</th>\n",
       "      <th>instructions</th>\n",
       "      <th>rating</th>\n",
       "      <th>review</th>\n",
       "      <th>tags</th>\n",
       "      <th>time</th>\n",
       "      <th>url</th>\n",
       "      <th>...</th>\n",
       "      <th>my_total_fat</th>\n",
       "      <th>calories</th>\n",
       "      <th>carb_pdv</th>\n",
       "      <th>protien_pdv</th>\n",
       "      <th>saturated_fat_pdv</th>\n",
       "      <th>sodium_pdv</th>\n",
       "      <th>sugar_pdv</th>\n",
       "      <th>total_fat_pdv</th>\n",
       "      <th>img_list</th>\n",
       "      <th>train</th>\n",
       "    </tr>\n",
       "  </thead>\n",
       "  <tbody>\n",
       "    <tr>\n",
       "      <th>895265</th>\n",
       "      <td>6bff3e3015</td>\n",
       "      <td>tennessee moonshine</td>\n",
       "      <td>food</td>\n",
       "      <td>[50 lbs cornmeal, 10 lbs natural bran (optiona...</td>\n",
       "      <td>[To boiled cornmeal add yeast and lots of suga...</td>\n",
       "      <td>[0, 0, 0]</td>\n",
       "      <td>[Now I'm going to have to go to the storage un...</td>\n",
       "      <td>[30-minutes-or-less, time-to-make, course, pre...</td>\n",
       "      <td>20.0</td>\n",
       "      <td>http://www.food.com/recipe/tennessee-moonshine...</td>\n",
       "      <td>...</td>\n",
       "      <td>12.94</td>\n",
       "      <td>434360.2</td>\n",
       "      <td>360.98</td>\n",
       "      <td>39.61</td>\n",
       "      <td>5.9</td>\n",
       "      <td>13.24</td>\n",
       "      <td>3627.29</td>\n",
       "      <td>12.93</td>\n",
       "      <td>[]</td>\n",
       "      <td>True</td>\n",
       "    </tr>\n",
       "  </tbody>\n",
       "</table>\n",
       "<p>1 rows × 27 columns</p>\n",
       "</div>"
      ],
      "text/plain": [
       "                id          title_lower source  \\\n",
       "895265  6bff3e3015  tennessee moonshine   food   \n",
       "\n",
       "                                              ingredients  \\\n",
       "895265  [50 lbs cornmeal, 10 lbs natural bran (optiona...   \n",
       "\n",
       "                                             instructions     rating  \\\n",
       "895265  [To boiled cornmeal add yeast and lots of suga...  [0, 0, 0]   \n",
       "\n",
       "                                                   review  \\\n",
       "895265  [Now I'm going to have to go to the storage un...   \n",
       "\n",
       "                                                     tags  time  \\\n",
       "895265  [30-minutes-or-less, time-to-make, course, pre...  20.0   \n",
       "\n",
       "                                                      url  ... my_total_fat  \\\n",
       "895265  http://www.food.com/recipe/tennessee-moonshine...  ...        12.94   \n",
       "\n",
       "        calories  carb_pdv  protien_pdv  saturated_fat_pdv  sodium_pdv  \\\n",
       "895265  434360.2    360.98        39.61                5.9       13.24   \n",
       "\n",
       "        sugar_pdv  total_fat_pdv  img_list  train  \n",
       "895265    3627.29          12.93        []   True  \n",
       "\n",
       "[1 rows x 27 columns]"
      ]
     },
     "execution_count": 9,
     "metadata": {},
     "output_type": "execute_result"
    }
   ],
   "source": [
    "# Post covid party idea?? :P\n",
    "moonshine = df[df['carb_pdv']==df['carb_pdv'].max()]\n",
    "moonshine"
   ]
  },
  {
   "cell_type": "markdown",
   "metadata": {},
   "source": [
    "### What does rating look like?"
   ]
  },
  {
   "cell_type": "code",
   "execution_count": 11,
   "metadata": {},
   "outputs": [
    {
     "data": {
      "image/png": "[encoded data removed]",
      "text/plain": [
       "<Figure size 432x288 with 1 Axes>"
      ]
     },
     "metadata": {
      "needs_background": "light"
     },
     "output_type": "display_data"
    }
   ],
   "source": [
    "df[~df['rating'].isnull()]['rating'].apply(lambda x: np.mean(x)).hist()\n",
    "plt.show()"
   ]
  }
 ],
 "metadata": {
  "kernelspec": {
   "display_name": "Python 3",
   "language": "python",
   "name": "python3"
  },
  "language_info": {
   "codemirror_mode": {
    "name": "ipython",
    "version": 3
   },
   "file_extension": ".py",
   "mimetype": "text/x-python",
   "name": "python",
   "nbconvert_exporter": "python",
   "pygments_lexer": "ipython3",
   "version": "3.8.7"
  }
 },
 "nbformat": 4,
 "nbformat_minor": 2
}
